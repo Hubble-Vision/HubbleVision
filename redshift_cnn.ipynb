{
 "cells": [
  {
   "cell_type": "code",
   "execution_count": null,
   "id": "5ed4b9d3",
   "metadata": {},
   "outputs": [],
   "source": [
    "import os\n",
    "import numpy as np\n",
    "import pandas as pd\n",
    "from pathlib import Path\n",
    "\n",
    "CSV_FILE = 'sdss_data.csv'\n",
    "IMG_DIR = 'sdss_images'\n",
    "IMG_SIZE = 128\n",
    "\n",
    "df = pd.read_csv(CSV_FILE, comment = '#')\n",
    "\n",
    "def load_img(df: pd.DataFrame, image_dir: Path) -> None:\n",
    "    images = []\n",
    "    valid_indices = []\n",
    "\n",
    "    for index, row in df.iterrows():\n",
    "        img_path = os.path.join(image_dir, f'image_{index:04d}.jpg')\n",
    "        if os.path.exists(img_path):\n",
    "            ..."
   ]
  }
 ],
 "metadata": {
  "kernelspec": {
   "display_name": "venv",
   "language": "python",
   "name": "python3"
  },
  "language_info": {
   "codemirror_mode": {
    "name": "ipython",
    "version": 3
   },
   "file_extension": ".py",
   "mimetype": "text/x-python",
   "name": "python",
   "nbconvert_exporter": "python",
   "pygments_lexer": "ipython3",
   "version": "3.12.10"
  }
 },
 "nbformat": 4,
 "nbformat_minor": 5
}
