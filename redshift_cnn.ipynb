{
 "cells": [
  {
   "cell_type": "code",
   "execution_count": 1,
   "id": "5ed4b9d3",
   "metadata": {},
   "outputs": [
    {
     "name": "stdout",
     "output_type": "stream",
     "text": [
      "Successfully loaded 1000 galaxy coordinates.\n"
     ]
    },
    {
     "data": {
      "text/html": [
       "<div>\n",
       "<style scoped>\n",
       "    .dataframe tbody tr th:only-of-type {\n",
       "        vertical-align: middle;\n",
       "    }\n",
       "\n",
       "    .dataframe tbody tr th {\n",
       "        vertical-align: top;\n",
       "    }\n",
       "\n",
       "    .dataframe thead th {\n",
       "        text-align: right;\n",
       "    }\n",
       "</style>\n",
       "<table border=\"1\" class=\"dataframe\">\n",
       "  <thead>\n",
       "    <tr style=\"text-align: right;\">\n",
       "      <th></th>\n",
       "      <th>objID</th>\n",
       "      <th>ra</th>\n",
       "      <th>dec</th>\n",
       "      <th>modelMag_u</th>\n",
       "      <th>modelMag_g</th>\n",
       "      <th>modelMag_r</th>\n",
       "      <th>modelMag_i</th>\n",
       "      <th>modelMag_z</th>\n",
       "      <th>petroRad_r</th>\n",
       "      <th>petroRad_g</th>\n",
       "      <th>z</th>\n",
       "      <th>zErr</th>\n",
       "    </tr>\n",
       "  </thead>\n",
       "  <tbody>\n",
       "    <tr>\n",
       "      <th>0</th>\n",
       "      <td>1237648704585662641</td>\n",
       "      <td>203.042941</td>\n",
       "      <td>0.014639</td>\n",
       "      <td>20.69178</td>\n",
       "      <td>18.76838</td>\n",
       "      <td>17.68217</td>\n",
       "      <td>17.18957</td>\n",
       "      <td>16.84236</td>\n",
       "      <td>3.183995</td>\n",
       "      <td>3.634754</td>\n",
       "      <td>0.152338</td>\n",
       "      <td>0.000035</td>\n",
       "    </tr>\n",
       "    <tr>\n",
       "      <th>1</th>\n",
       "      <td>1237648704585662865</td>\n",
       "      <td>202.931765</td>\n",
       "      <td>0.114071</td>\n",
       "      <td>23.79132</td>\n",
       "      <td>21.99652</td>\n",
       "      <td>20.40593</td>\n",
       "      <td>19.48305</td>\n",
       "      <td>19.25461</td>\n",
       "      <td>3.342154</td>\n",
       "      <td>2.969919</td>\n",
       "      <td>0.566904</td>\n",
       "      <td>0.000171</td>\n",
       "    </tr>\n",
       "    <tr>\n",
       "      <th>2</th>\n",
       "      <td>1237648704585662884</td>\n",
       "      <td>202.940071</td>\n",
       "      <td>0.204344</td>\n",
       "      <td>23.20472</td>\n",
       "      <td>22.23272</td>\n",
       "      <td>20.48755</td>\n",
       "      <td>19.57254</td>\n",
       "      <td>18.90709</td>\n",
       "      <td>1.881210</td>\n",
       "      <td>1.649263</td>\n",
       "      <td>0.504841</td>\n",
       "      <td>0.000155</td>\n",
       "    </tr>\n",
       "    <tr>\n",
       "      <th>3</th>\n",
       "      <td>1237648704585663201</td>\n",
       "      <td>203.047676</td>\n",
       "      <td>0.031271</td>\n",
       "      <td>24.53938</td>\n",
       "      <td>22.03534</td>\n",
       "      <td>20.36415</td>\n",
       "      <td>19.34721</td>\n",
       "      <td>18.97953</td>\n",
       "      <td>2.700954</td>\n",
       "      <td>2.969919</td>\n",
       "      <td>0.499408</td>\n",
       "      <td>0.000177</td>\n",
       "    </tr>\n",
       "    <tr>\n",
       "      <th>4</th>\n",
       "      <td>1237648704585663335</td>\n",
       "      <td>202.961607</td>\n",
       "      <td>0.062155</td>\n",
       "      <td>25.04012</td>\n",
       "      <td>23.03566</td>\n",
       "      <td>21.02226</td>\n",
       "      <td>19.88334</td>\n",
       "      <td>19.45707</td>\n",
       "      <td>2.969387</td>\n",
       "      <td>2.969919</td>\n",
       "      <td>0.616243</td>\n",
       "      <td>0.000292</td>\n",
       "    </tr>\n",
       "  </tbody>\n",
       "</table>\n",
       "</div>"
      ],
      "text/plain": [
       "                 objID          ra       dec  modelMag_u  modelMag_g  \\\n",
       "0  1237648704585662641  203.042941  0.014639    20.69178    18.76838   \n",
       "1  1237648704585662865  202.931765  0.114071    23.79132    21.99652   \n",
       "2  1237648704585662884  202.940071  0.204344    23.20472    22.23272   \n",
       "3  1237648704585663201  203.047676  0.031271    24.53938    22.03534   \n",
       "4  1237648704585663335  202.961607  0.062155    25.04012    23.03566   \n",
       "\n",
       "   modelMag_r  modelMag_i  modelMag_z  petroRad_r  petroRad_g         z  \\\n",
       "0    17.68217    17.18957    16.84236    3.183995    3.634754  0.152338   \n",
       "1    20.40593    19.48305    19.25461    3.342154    2.969919  0.566904   \n",
       "2    20.48755    19.57254    18.90709    1.881210    1.649263  0.504841   \n",
       "3    20.36415    19.34721    18.97953    2.700954    2.969919  0.499408   \n",
       "4    21.02226    19.88334    19.45707    2.969387    2.969919  0.616243   \n",
       "\n",
       "       zErr  \n",
       "0  0.000035  \n",
       "1  0.000171  \n",
       "2  0.000155  \n",
       "3  0.000177  \n",
       "4  0.000292  "
      ]
     },
     "execution_count": 1,
     "metadata": {},
     "output_type": "execute_result"
    }
   ],
   "source": [
    "import os\n",
    "import numpy as np\n",
    "import pandas as pd\n",
    "from pathlib import Path\n",
    "\n",
    "CSV_FILE = 'sdss_data.csv'\n",
    "IMG_DIR = 'sdss_images'\n",
    "IMG_SIZE = 128\n",
    "\n",
    "df = pd.read_csv(CSV_FILE, comment = '#')\n",
    "print(f'Successfully loaded {len(df)} galaxy coordinates.')\n",
    "df.head()"
   ]
  },
  {
   "cell_type": "code",
   "execution_count": 87,
   "id": "1244fedd",
   "metadata": {},
   "outputs": [],
   "source": [
    "from keras.utils import load_img, img_to_array\n",
    "\n",
    "def load_images(df: pd.DataFrame, image_dir: Path) -> np.array:\n",
    "    images = []\n",
    "\n",
    "    for index, _ in df.iterrows():\n",
    "        img_path = os.path.join(image_dir, f'image_{index:04d}.jpg')\n",
    "        # print(f'Loading {img_path}')\n",
    "        try:\n",
    "            img = load_img(img_path, target_size = (IMG_SIZE, IMG_SIZE))\n",
    "            img_array = img_to_array(img) / 255.0\n",
    "            images.append(img_array)\n",
    "        except Exception as e:\n",
    "            print(f'Could not load image path {img_path}: {e}')\n",
    "    images = np.array(images)\n",
    "    return images"
   ]
  },
  {
   "cell_type": "code",
   "execution_count": 14,
   "id": "ca05b2bb",
   "metadata": {},
   "outputs": [
    {
     "name": "stdout",
     "output_type": "stream",
     "text": [
      "(1000, 128, 128, 3)\n"
     ]
    }
   ],
   "source": [
    "images = load_images(df, Path('sdss_images'))\n",
    "print(images.shape)\n",
    "labels = df['z'].values\n",
    "# print(labels)"
   ]
  },
  {
   "cell_type": "code",
   "execution_count": 50,
   "id": "8a6a4315",
   "metadata": {},
   "outputs": [],
   "source": [
    "from sklearn.model_selection import train_test_split\n",
    "\n",
    "indices = np.arange(len(df))\n",
    "X_train_index, X_val_index, y_train, y_val = train_test_split(indices, labels, test_size = 0.25, random_state = 396)\n",
    "X_train = images[X_train_index]\n",
    "X_val = images[X_val_index]"
   ]
  },
  {
   "cell_type": "code",
   "execution_count": 52,
   "id": "3c2bb5af",
   "metadata": {},
   "outputs": [
    {
     "data": {
      "text/html": [
       "<pre style=\"white-space:pre;overflow-x:auto;line-height:normal;font-family:Menlo,'DejaVu Sans Mono',consolas,'Courier New',monospace\"><span style=\"font-weight: bold\">Model: \"sequential_11\"</span>\n",
       "</pre>\n"
      ],
      "text/plain": [
       "\u001b[1mModel: \"sequential_11\"\u001b[0m\n"
      ]
     },
     "metadata": {},
     "output_type": "display_data"
    },
    {
     "data": {
      "text/html": [
       "<pre style=\"white-space:pre;overflow-x:auto;line-height:normal;font-family:Menlo,'DejaVu Sans Mono',consolas,'Courier New',monospace\">┏━━━━━━━━━━━━━━━━━━━━━━━━━━━━━━━━━┳━━━━━━━━━━━━━━━━━━━━━━━━┳━━━━━━━━━━━━━━━┓\n",
       "┃<span style=\"font-weight: bold\"> Layer (type)                    </span>┃<span style=\"font-weight: bold\"> Output Shape           </span>┃<span style=\"font-weight: bold\">       Param # </span>┃\n",
       "┡━━━━━━━━━━━━━━━━━━━━━━━━━━━━━━━━━╇━━━━━━━━━━━━━━━━━━━━━━━━╇━━━━━━━━━━━━━━━┩\n",
       "│ conv1 (<span style=\"color: #0087ff; text-decoration-color: #0087ff\">Conv2D</span>)                  │ (<span style=\"color: #00d7ff; text-decoration-color: #00d7ff\">None</span>, <span style=\"color: #00af00; text-decoration-color: #00af00\">126</span>, <span style=\"color: #00af00; text-decoration-color: #00af00\">126</span>, <span style=\"color: #00af00; text-decoration-color: #00af00\">32</span>)   │           <span style=\"color: #00af00; text-decoration-color: #00af00\">896</span> │\n",
       "├─────────────────────────────────┼────────────────────────┼───────────────┤\n",
       "│ pool1 (<span style=\"color: #0087ff; text-decoration-color: #0087ff\">MaxPooling2D</span>)            │ (<span style=\"color: #00d7ff; text-decoration-color: #00d7ff\">None</span>, <span style=\"color: #00af00; text-decoration-color: #00af00\">63</span>, <span style=\"color: #00af00; text-decoration-color: #00af00\">63</span>, <span style=\"color: #00af00; text-decoration-color: #00af00\">32</span>)     │             <span style=\"color: #00af00; text-decoration-color: #00af00\">0</span> │\n",
       "├─────────────────────────────────┼────────────────────────┼───────────────┤\n",
       "│ conv2 (<span style=\"color: #0087ff; text-decoration-color: #0087ff\">Conv2D</span>)                  │ (<span style=\"color: #00d7ff; text-decoration-color: #00d7ff\">None</span>, <span style=\"color: #00af00; text-decoration-color: #00af00\">61</span>, <span style=\"color: #00af00; text-decoration-color: #00af00\">61</span>, <span style=\"color: #00af00; text-decoration-color: #00af00\">64</span>)     │        <span style=\"color: #00af00; text-decoration-color: #00af00\">18,496</span> │\n",
       "├─────────────────────────────────┼────────────────────────┼───────────────┤\n",
       "│ pool2 (<span style=\"color: #0087ff; text-decoration-color: #0087ff\">MaxPooling2D</span>)            │ (<span style=\"color: #00d7ff; text-decoration-color: #00d7ff\">None</span>, <span style=\"color: #00af00; text-decoration-color: #00af00\">30</span>, <span style=\"color: #00af00; text-decoration-color: #00af00\">30</span>, <span style=\"color: #00af00; text-decoration-color: #00af00\">64</span>)     │             <span style=\"color: #00af00; text-decoration-color: #00af00\">0</span> │\n",
       "├─────────────────────────────────┼────────────────────────┼───────────────┤\n",
       "│ conv3 (<span style=\"color: #0087ff; text-decoration-color: #0087ff\">Conv2D</span>)                  │ (<span style=\"color: #00d7ff; text-decoration-color: #00d7ff\">None</span>, <span style=\"color: #00af00; text-decoration-color: #00af00\">28</span>, <span style=\"color: #00af00; text-decoration-color: #00af00\">28</span>, <span style=\"color: #00af00; text-decoration-color: #00af00\">128</span>)    │        <span style=\"color: #00af00; text-decoration-color: #00af00\">73,856</span> │\n",
       "├─────────────────────────────────┼────────────────────────┼───────────────┤\n",
       "│ pool3 (<span style=\"color: #0087ff; text-decoration-color: #0087ff\">MaxPooling2D</span>)            │ (<span style=\"color: #00d7ff; text-decoration-color: #00d7ff\">None</span>, <span style=\"color: #00af00; text-decoration-color: #00af00\">14</span>, <span style=\"color: #00af00; text-decoration-color: #00af00\">14</span>, <span style=\"color: #00af00; text-decoration-color: #00af00\">128</span>)    │             <span style=\"color: #00af00; text-decoration-color: #00af00\">0</span> │\n",
       "├─────────────────────────────────┼────────────────────────┼───────────────┤\n",
       "│ global_average_pooling2d_2      │ (<span style=\"color: #00d7ff; text-decoration-color: #00d7ff\">None</span>, <span style=\"color: #00af00; text-decoration-color: #00af00\">128</span>)            │             <span style=\"color: #00af00; text-decoration-color: #00af00\">0</span> │\n",
       "│ (<span style=\"color: #0087ff; text-decoration-color: #0087ff\">GlobalAveragePooling2D</span>)        │                        │               │\n",
       "├─────────────────────────────────┼────────────────────────┼───────────────┤\n",
       "│ fconn1 (<span style=\"color: #0087ff; text-decoration-color: #0087ff\">Dense</span>)                  │ (<span style=\"color: #00d7ff; text-decoration-color: #00d7ff\">None</span>, <span style=\"color: #00af00; text-decoration-color: #00af00\">32</span>)             │         <span style=\"color: #00af00; text-decoration-color: #00af00\">4,128</span> │\n",
       "├─────────────────────────────────┼────────────────────────┼───────────────┤\n",
       "│ dropout (<span style=\"color: #0087ff; text-decoration-color: #0087ff\">Dropout</span>)               │ (<span style=\"color: #00d7ff; text-decoration-color: #00d7ff\">None</span>, <span style=\"color: #00af00; text-decoration-color: #00af00\">32</span>)             │             <span style=\"color: #00af00; text-decoration-color: #00af00\">0</span> │\n",
       "├─────────────────────────────────┼────────────────────────┼───────────────┤\n",
       "│ output (<span style=\"color: #0087ff; text-decoration-color: #0087ff\">Dense</span>)                  │ (<span style=\"color: #00d7ff; text-decoration-color: #00d7ff\">None</span>, <span style=\"color: #00af00; text-decoration-color: #00af00\">1</span>)              │            <span style=\"color: #00af00; text-decoration-color: #00af00\">33</span> │\n",
       "└─────────────────────────────────┴────────────────────────┴───────────────┘\n",
       "</pre>\n"
      ],
      "text/plain": [
       "┏━━━━━━━━━━━━━━━━━━━━━━━━━━━━━━━━━┳━━━━━━━━━━━━━━━━━━━━━━━━┳━━━━━━━━━━━━━━━┓\n",
       "┃\u001b[1m \u001b[0m\u001b[1mLayer (type)                   \u001b[0m\u001b[1m \u001b[0m┃\u001b[1m \u001b[0m\u001b[1mOutput Shape          \u001b[0m\u001b[1m \u001b[0m┃\u001b[1m \u001b[0m\u001b[1m      Param #\u001b[0m\u001b[1m \u001b[0m┃\n",
       "┡━━━━━━━━━━━━━━━━━━━━━━━━━━━━━━━━━╇━━━━━━━━━━━━━━━━━━━━━━━━╇━━━━━━━━━━━━━━━┩\n",
       "│ conv1 (\u001b[38;5;33mConv2D\u001b[0m)                  │ (\u001b[38;5;45mNone\u001b[0m, \u001b[38;5;34m126\u001b[0m, \u001b[38;5;34m126\u001b[0m, \u001b[38;5;34m32\u001b[0m)   │           \u001b[38;5;34m896\u001b[0m │\n",
       "├─────────────────────────────────┼────────────────────────┼───────────────┤\n",
       "│ pool1 (\u001b[38;5;33mMaxPooling2D\u001b[0m)            │ (\u001b[38;5;45mNone\u001b[0m, \u001b[38;5;34m63\u001b[0m, \u001b[38;5;34m63\u001b[0m, \u001b[38;5;34m32\u001b[0m)     │             \u001b[38;5;34m0\u001b[0m │\n",
       "├─────────────────────────────────┼────────────────────────┼───────────────┤\n",
       "│ conv2 (\u001b[38;5;33mConv2D\u001b[0m)                  │ (\u001b[38;5;45mNone\u001b[0m, \u001b[38;5;34m61\u001b[0m, \u001b[38;5;34m61\u001b[0m, \u001b[38;5;34m64\u001b[0m)     │        \u001b[38;5;34m18,496\u001b[0m │\n",
       "├─────────────────────────────────┼────────────────────────┼───────────────┤\n",
       "│ pool2 (\u001b[38;5;33mMaxPooling2D\u001b[0m)            │ (\u001b[38;5;45mNone\u001b[0m, \u001b[38;5;34m30\u001b[0m, \u001b[38;5;34m30\u001b[0m, \u001b[38;5;34m64\u001b[0m)     │             \u001b[38;5;34m0\u001b[0m │\n",
       "├─────────────────────────────────┼────────────────────────┼───────────────┤\n",
       "│ conv3 (\u001b[38;5;33mConv2D\u001b[0m)                  │ (\u001b[38;5;45mNone\u001b[0m, \u001b[38;5;34m28\u001b[0m, \u001b[38;5;34m28\u001b[0m, \u001b[38;5;34m128\u001b[0m)    │        \u001b[38;5;34m73,856\u001b[0m │\n",
       "├─────────────────────────────────┼────────────────────────┼───────────────┤\n",
       "│ pool3 (\u001b[38;5;33mMaxPooling2D\u001b[0m)            │ (\u001b[38;5;45mNone\u001b[0m, \u001b[38;5;34m14\u001b[0m, \u001b[38;5;34m14\u001b[0m, \u001b[38;5;34m128\u001b[0m)    │             \u001b[38;5;34m0\u001b[0m │\n",
       "├─────────────────────────────────┼────────────────────────┼───────────────┤\n",
       "│ global_average_pooling2d_2      │ (\u001b[38;5;45mNone\u001b[0m, \u001b[38;5;34m128\u001b[0m)            │             \u001b[38;5;34m0\u001b[0m │\n",
       "│ (\u001b[38;5;33mGlobalAveragePooling2D\u001b[0m)        │                        │               │\n",
       "├─────────────────────────────────┼────────────────────────┼───────────────┤\n",
       "│ fconn1 (\u001b[38;5;33mDense\u001b[0m)                  │ (\u001b[38;5;45mNone\u001b[0m, \u001b[38;5;34m32\u001b[0m)             │         \u001b[38;5;34m4,128\u001b[0m │\n",
       "├─────────────────────────────────┼────────────────────────┼───────────────┤\n",
       "│ dropout (\u001b[38;5;33mDropout\u001b[0m)               │ (\u001b[38;5;45mNone\u001b[0m, \u001b[38;5;34m32\u001b[0m)             │             \u001b[38;5;34m0\u001b[0m │\n",
       "├─────────────────────────────────┼────────────────────────┼───────────────┤\n",
       "│ output (\u001b[38;5;33mDense\u001b[0m)                  │ (\u001b[38;5;45mNone\u001b[0m, \u001b[38;5;34m1\u001b[0m)              │            \u001b[38;5;34m33\u001b[0m │\n",
       "└─────────────────────────────────┴────────────────────────┴───────────────┘\n"
      ]
     },
     "metadata": {},
     "output_type": "display_data"
    },
    {
     "data": {
      "text/html": [
       "<pre style=\"white-space:pre;overflow-x:auto;line-height:normal;font-family:Menlo,'DejaVu Sans Mono',consolas,'Courier New',monospace\"><span style=\"font-weight: bold\"> Total params: </span><span style=\"color: #00af00; text-decoration-color: #00af00\">97,409</span> (380.50 KB)\n",
       "</pre>\n"
      ],
      "text/plain": [
       "\u001b[1m Total params: \u001b[0m\u001b[38;5;34m97,409\u001b[0m (380.50 KB)\n"
      ]
     },
     "metadata": {},
     "output_type": "display_data"
    },
    {
     "data": {
      "text/html": [
       "<pre style=\"white-space:pre;overflow-x:auto;line-height:normal;font-family:Menlo,'DejaVu Sans Mono',consolas,'Courier New',monospace\"><span style=\"font-weight: bold\"> Trainable params: </span><span style=\"color: #00af00; text-decoration-color: #00af00\">97,409</span> (380.50 KB)\n",
       "</pre>\n"
      ],
      "text/plain": [
       "\u001b[1m Trainable params: \u001b[0m\u001b[38;5;34m97,409\u001b[0m (380.50 KB)\n"
      ]
     },
     "metadata": {},
     "output_type": "display_data"
    },
    {
     "data": {
      "text/html": [
       "<pre style=\"white-space:pre;overflow-x:auto;line-height:normal;font-family:Menlo,'DejaVu Sans Mono',consolas,'Courier New',monospace\"><span style=\"font-weight: bold\"> Non-trainable params: </span><span style=\"color: #00af00; text-decoration-color: #00af00\">0</span> (0.00 B)\n",
       "</pre>\n"
      ],
      "text/plain": [
       "\u001b[1m Non-trainable params: \u001b[0m\u001b[38;5;34m0\u001b[0m (0.00 B)\n"
      ]
     },
     "metadata": {},
     "output_type": "display_data"
    },
    {
     "name": "stdout",
     "output_type": "stream",
     "text": [
      "None\n"
     ]
    }
   ],
   "source": [
    "import tensorflow as tf\n",
    "from keras import layers\n",
    "from keras.models import Sequential\n",
    "\n",
    "def build_redshift_cnn(input_shape: np.shape) -> tf.keras.Model:\n",
    "    model = Sequential(\n",
    "        # Using 3 3x3 conv filters\n",
    "        [\n",
    "            layers.Conv2D(32, (3, 3), activation = 'relu', input_shape = input_shape, name = 'conv1'),\n",
    "            layers.MaxPooling2D((2, 2), name = 'pool1', padding = 'valid'),\n",
    "\n",
    "            layers.Conv2D(64, (3, 3), activation = 'relu', input_shape = input_shape, name = 'conv2'),\n",
    "            layers.MaxPooling2D((2, 2), name = 'pool2', padding = 'valid'),\n",
    "\n",
    "            layers.Conv2D(128, (3, 3), activation = 'relu', input_shape = input_shape, name = 'conv3'),\n",
    "            layers.MaxPooling2D((2, 2), name = 'pool3', padding = 'valid'),\n",
    "\n",
    "            layers.GlobalAveragePooling2D(),\n",
    "            layers.Dense(32, activation = 'relu', name = 'fconn1'),\n",
    "            layers.Dropout(0.5, name = 'dropout'),\n",
    "            layers.Dense(1, activation = 'linear', name = 'output'),\n",
    "        ]\n",
    "    )\n",
    "    model.compile(optimizer = 'adam', loss = 'mean_squared_error', metrics = ['mean_absolute_error'])\n",
    "    return model\n",
    "\n",
    "model = build_redshift_cnn((128, 128, 3))\n",
    "print(model.summary())"
   ]
  },
  {
   "cell_type": "code",
   "execution_count": 53,
   "id": "94ee4d4e",
   "metadata": {},
   "outputs": [
    {
     "name": "stdout",
     "output_type": "stream",
     "text": [
      "X_train shape: (750, 128, 128, 3)\n",
      "y_train shape: (750,)\n",
      "X_val shape: (250, 128, 128, 3)\n",
      "y_val shape: (250,)\n"
     ]
    }
   ],
   "source": [
    "print(f'X_train shape: {X_train.shape}')\n",
    "print(f'y_train shape: {y_train.shape}')\n",
    "print(f'X_val shape: {X_val.shape}')\n",
    "print(f'y_val shape: {y_val.shape}')"
   ]
  },
  {
   "cell_type": "code",
   "execution_count": 54,
   "id": "7a9e12e8",
   "metadata": {},
   "outputs": [
    {
     "name": "stdout",
     "output_type": "stream",
     "text": [
      "Epoch 1/15\n",
      "\u001b[1m24/24\u001b[0m \u001b[32m━━━━━━━━━━━━━━━━━━━━\u001b[0m\u001b[37m\u001b[0m \u001b[1m4s\u001b[0m 113ms/step - loss: 0.1153 - mean_absolute_error: 0.2641 - val_loss: 0.0570 - val_mean_absolute_error: 0.2137\n",
      "Epoch 2/15\n",
      "\u001b[1m24/24\u001b[0m \u001b[32m━━━━━━━━━━━━━━━━━━━━\u001b[0m\u001b[37m\u001b[0m \u001b[1m3s\u001b[0m 105ms/step - loss: 0.0634 - mean_absolute_error: 0.2087 - val_loss: 0.0484 - val_mean_absolute_error: 0.1940\n",
      "Epoch 3/15\n",
      "\u001b[1m24/24\u001b[0m \u001b[32m━━━━━━━━━━━━━━━━━━━━\u001b[0m\u001b[37m\u001b[0m \u001b[1m2s\u001b[0m 99ms/step - loss: 0.0625 - mean_absolute_error: 0.1976 - val_loss: 0.0463 - val_mean_absolute_error: 0.1832\n",
      "Epoch 4/15\n",
      "\u001b[1m24/24\u001b[0m \u001b[32m━━━━━━━━━━━━━━━━━━━━\u001b[0m\u001b[37m\u001b[0m \u001b[1m3s\u001b[0m 110ms/step - loss: 0.0857 - mean_absolute_error: 0.1936 - val_loss: 0.0504 - val_mean_absolute_error: 0.1895\n",
      "Epoch 5/15\n",
      "\u001b[1m24/24\u001b[0m \u001b[32m━━━━━━━━━━━━━━━━━━━━\u001b[0m\u001b[37m\u001b[0m \u001b[1m7s\u001b[0m 309ms/step - loss: 0.0667 - mean_absolute_error: 0.1867 - val_loss: 0.0388 - val_mean_absolute_error: 0.1540\n",
      "Epoch 6/15\n",
      "\u001b[1m24/24\u001b[0m \u001b[32m━━━━━━━━━━━━━━━━━━━━\u001b[0m\u001b[37m\u001b[0m \u001b[1m5s\u001b[0m 101ms/step - loss: 0.0590 - mean_absolute_error: 0.1646 - val_loss: 0.0328 - val_mean_absolute_error: 0.1327\n",
      "Epoch 7/15\n",
      "\u001b[1m24/24\u001b[0m \u001b[32m━━━━━━━━━━━━━━━━━━━━\u001b[0m\u001b[37m\u001b[0m \u001b[1m2s\u001b[0m 101ms/step - loss: 0.0371 - mean_absolute_error: 0.1400 - val_loss: 0.0329 - val_mean_absolute_error: 0.1327\n",
      "Epoch 8/15\n",
      "\u001b[1m24/24\u001b[0m \u001b[32m━━━━━━━━━━━━━━━━━━━━\u001b[0m\u001b[37m\u001b[0m \u001b[1m3s\u001b[0m 102ms/step - loss: 0.0363 - mean_absolute_error: 0.1382 - val_loss: 0.0279 - val_mean_absolute_error: 0.1107\n",
      "Epoch 9/15\n",
      "\u001b[1m24/24\u001b[0m \u001b[32m━━━━━━━━━━━━━━━━━━━━\u001b[0m\u001b[37m\u001b[0m \u001b[1m2s\u001b[0m 101ms/step - loss: 0.0299 - mean_absolute_error: 0.1205 - val_loss: 0.0275 - val_mean_absolute_error: 0.1120\n",
      "Epoch 10/15\n",
      "\u001b[1m24/24\u001b[0m \u001b[32m━━━━━━━━━━━━━━━━━━━━\u001b[0m\u001b[37m\u001b[0m \u001b[1m3s\u001b[0m 103ms/step - loss: 0.0358 - mean_absolute_error: 0.1175 - val_loss: 0.0307 - val_mean_absolute_error: 0.1220\n",
      "Epoch 11/15\n",
      "\u001b[1m24/24\u001b[0m \u001b[32m━━━━━━━━━━━━━━━━━━━━\u001b[0m\u001b[37m\u001b[0m \u001b[1m2s\u001b[0m 101ms/step - loss: 0.0449 - mean_absolute_error: 0.1280 - val_loss: 0.0266 - val_mean_absolute_error: 0.1062\n",
      "Epoch 12/15\n",
      "\u001b[1m24/24\u001b[0m \u001b[32m━━━━━━━━━━━━━━━━━━━━\u001b[0m\u001b[37m\u001b[0m \u001b[1m3s\u001b[0m 104ms/step - loss: 0.0293 - mean_absolute_error: 0.1190 - val_loss: 0.0264 - val_mean_absolute_error: 0.1016\n",
      "Epoch 13/15\n",
      "\u001b[1m24/24\u001b[0m \u001b[32m━━━━━━━━━━━━━━━━━━━━\u001b[0m\u001b[37m\u001b[0m \u001b[1m3s\u001b[0m 107ms/step - loss: 0.0390 - mean_absolute_error: 0.1224 - val_loss: 0.0265 - val_mean_absolute_error: 0.1048\n",
      "Epoch 14/15\n",
      "\u001b[1m24/24\u001b[0m \u001b[32m━━━━━━━━━━━━━━━━━━━━\u001b[0m\u001b[37m\u001b[0m \u001b[1m3s\u001b[0m 105ms/step - loss: 0.0333 - mean_absolute_error: 0.1175 - val_loss: 0.0260 - val_mean_absolute_error: 0.1016\n",
      "Epoch 15/15\n",
      "\u001b[1m24/24\u001b[0m \u001b[32m━━━━━━━━━━━━━━━━━━━━\u001b[0m\u001b[37m\u001b[0m \u001b[1m3s\u001b[0m 104ms/step - loss: 0.0478 - mean_absolute_error: 0.1336 - val_loss: 0.0264 - val_mean_absolute_error: 0.1067\n"
     ]
    }
   ],
   "source": [
    "EPOCHS = 15\n",
    "BATCH_SIZE = 32\n",
    "\n",
    "def train_model(X_train: np.ndarray, y_train: np.ndarray, X_val: np.ndarray, y_val: np.ndarray) -> tf.keras.Model:\n",
    "    return model.fit(X_train, y_train, validation_data = (X_val, y_val), epochs = EPOCHS, batch_size = BATCH_SIZE)\n",
    "\n",
    "hist = train_model(X_train, y_train, X_val, y_val)"
   ]
  },
  {
   "cell_type": "code",
   "execution_count": 85,
   "id": "372d5ec1",
   "metadata": {},
   "outputs": [
    {
     "name": "stdout",
     "output_type": "stream",
     "text": [
      "\u001b[1m8/8\u001b[0m \u001b[32m━━━━━━━━━━━━━━━━━━━━\u001b[0m\u001b[37m\u001b[0m \u001b[1m0s\u001b[0m 37ms/step\n",
      "Estimated Hubble's Constant: 69.1722 km/s/Mpc\n"
     ]
    }
   ],
   "source": [
    "from sklearn.linear_model import LinearRegression\n",
    "\n",
    "C = 299792.458\n",
    "M_r = -21.0 # We assume this for now: predicted to be between -17.5 and -23.6\n",
    "\n",
    "z_predicted_val = model.predict(X_val).flatten()\n",
    "\n",
    "df_val = df.iloc[X_val_index].copy()\n",
    "df_val['z_predicted'] = z_predicted_val\n",
    "df_val['velocity'] = C * df_val['z_predicted']\n",
    "df_val['distance'] = np.pow(10, (df_val['modelMag_r'] - M_r - 25) / 5)\n",
    "\n",
    "X = df_val[['distance']]\n",
    "y = df_val['velocity']\n",
    "\n",
    "reg = LinearRegression(fit_intercept = False)\n",
    "reg.fit(X, y)\n",
    "\n",
    "hubble_const = reg.coef_[0]\n",
    "print(f'Estimated Hubble\\'s Constant: {hubble_const:.4f} km/s/Mpc')"
   ]
  }
 ],
 "metadata": {
  "kernelspec": {
   "display_name": "venv",
   "language": "python",
   "name": "python3"
  },
  "language_info": {
   "codemirror_mode": {
    "name": "ipython",
    "version": 3
   },
   "file_extension": ".py",
   "mimetype": "text/x-python",
   "name": "python",
   "nbconvert_exporter": "python",
   "pygments_lexer": "ipython3",
   "version": "3.12.10"
  }
 },
 "nbformat": 4,
 "nbformat_minor": 5
}
